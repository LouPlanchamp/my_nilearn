{
 "cells": [
  {
   "cell_type": "markdown",
   "metadata": {},
   "source": [
    "<div class=\"alert alert-block alert-info\">\n",
    "<h1 style=\"text-align:center;font-family:avenir;\">ICA first</h1>\n",
    "Lou Planchamp & Victor Férat\n",
    "</div>"
   ]
  },
  {
   "cell_type": "code",
   "execution_count": null,
   "metadata": {},
   "outputs": [],
   "source": [
    "%matplotlib inline"
   ]
  },
  {
   "cell_type": "code",
   "execution_count": null,
   "metadata": {},
   "outputs": [],
   "source": [
    "from nilearn import plotting\n",
    "from nilearn.plotting import plot_stat_map\n",
    "import pandas as pd\n",
    "from nilearn.glm.first_level import FirstLevelModel\n",
    "from numpy import array\n",
    "import os\n",
    "from nilearn.plotting import plot_design_matrix\n",
    "import numpy as np\n",
    "import matplotlib.pyplot as plt\n",
    "from nilearn.glm.second_level import SecondLevelModel\n",
    "\n",
    "from os.path import join\n",
    "from bids import BIDSLayout\n",
    "from bids.tests import get_test_data_path\n",
    "from nilearn.plotting import plot_prob_atlas\n",
    "from nilearn.image import iter_img\n",
    "from nilearn.plotting import plot_stat_map, show\n",
    "\n",
    "\n",
    "from nilearn.decomposition import CanICA"
   ]
  },
  {
   "cell_type": "markdown",
   "metadata": {},
   "source": [
    "Here, thanks to BIDSLayout, we define whitch files we want to work on (all the resting states) and whitch files to use for the preprocessing (confounds)"
   ]
  },
  {
   "cell_type": "code",
   "execution_count": null,
   "metadata": {},
   "outputs": [],
   "source": [
    "bids_folder = '/home/carole/Bureau/BIDS_fMRIprep'\n",
    "layout = BIDSLayout(bids_folder, derivatives=True)\n",
    "layout"
   ]
  },
  {
   "cell_type": "code",
   "execution_count": null,
   "metadata": {},
   "outputs": [],
   "source": [
    "func_filenames = layout.get(subject=['01','02','08'], task='rest', run=[1,2], space='MNIPediatricAsym', desc='preproc', extension='nii.gz', return_type='filename')"
   ]
  },
  {
   "cell_type": "code",
   "execution_count": null,
   "metadata": {},
   "outputs": [],
   "source": [
    "func_filenames"
   ]
  },
  {
   "cell_type": "code",
   "execution_count": null,
   "metadata": {},
   "outputs": [],
   "source": [
    "confounds = layout.get(task='rest',  run=[1,2], desc='confounds', extension='tsv', return_type='filename')"
   ]
  },
  {
   "cell_type": "code",
   "execution_count": null,
   "metadata": {},
   "outputs": [],
   "source": [
    "confounds"
   ]
  },
  {
   "cell_type": "markdown",
   "metadata": {},
   "source": [
    "Group ICA"
   ]
  },
  {
   "cell_type": "code",
   "execution_count": null,
   "metadata": {},
   "outputs": [],
   "source": [
    "canica = CanICA(n_components=20,\n",
    "                memory=\"nilearn_cache\", memory_level=2,\n",
    "                verbose=10,\n",
    "                mask_strategy='whole-brain-template',\n",
    "                random_state=0)\n",
    "canica.fit(func_filenames)\n",
    "\n",
    "# Retrieve the independent components in brain space. Directly accessible through attribute `components_img_`.\n",
    "canica_components_img = canica.components_img_\n",
    "\n",
    "# components_img is a Nifti Image object, and can be saved to a file with the following line:\n",
    "\n",
    "if not os.path.isdir('ICA'): \n",
    "    os.mkdir('ICA')\n",
    "if not os.path.isdir('ICA/group'): \n",
    "    os.mkdir('ICA/group')\n",
    "canica_components_img.to_filename('ICA/group/canica_resting_state_wo-sub.nii.gz')"
   ]
  },
  {
   "cell_type": "code",
   "execution_count": null,
   "metadata": {},
   "outputs": [],
   "source": [
    "plot_prob_atlas(canica_components_img, title='All ICA components', output_file='ICA/group/canica_resting_state_wo-sub.png')"
   ]
  },
  {
   "cell_type": "code",
   "execution_count": null,
   "metadata": {},
   "outputs": [],
   "source": [
    "n_columns = 2\n",
    "n_ica = 20\n",
    "nrows = int(n_ica / n_columns)\n",
    "fig, axes = plt.subplots(nrows=nrows, ncols=n_columns, figsize=(20,60))\n",
    "\n",
    "for i, cur_img in enumerate(iter_img(canica_components_img)):\n",
    "    plot_stat_map(cur_img, display_mode=\"z\", title=\"IC %d\" % i,\n",
    "                  cut_coords=3, \n",
    "                  colorbar=False, \n",
    "                  axes=axes[int(i / 2), int(i % 2)],\n",
    "                  output_file='ICA/group/canica_resting_state_wo-sub_fig2.png')"
   ]
  },
  {
   "cell_type": "markdown",
   "metadata": {},
   "source": [
    "This following loop does an ICA for each subject individualy"
   ]
  },
  {
   "cell_type": "code",
   "execution_count": null,
   "metadata": {},
   "outputs": [],
   "source": [
    "for subject in layout.get_subjects():\n",
    "    if subject not in ['07']:\n",
    "        for session in layout.get_sessions(subject=subject):\n",
    "            f = layout.get(task='rest', subject=['07'], session=session,\n",
    "                           space='MNIPediatricAsym', desc='preproc', extension='nii.gz', \n",
    "                           return_type='filename')\n",
    "\n",
    "            print(subject, session, f)\n",
    "\n",
    "            canica = CanICA(n_components=20,\n",
    "                            memory=\"nilearn_cache\", memory_level=2,\n",
    "                            verbose=1,\n",
    "                            mask_strategy='whole-brain-template',\n",
    "                            smoothing_fwhm=10,\n",
    "                            random_state=0)\n",
    "            canica.fit(f)\n",
    "\n",
    "\n",
    "            if not os.path.isdir('ICA'):\n",
    "                os.mkdir('ICA')\n",
    "            if not os.path.isdir('ICA/individual'): \n",
    "                os.mkdir('ICA/individual')\n",
    "            sub_folder = f'ICA/individual/{subject}'\n",
    "            if not os.path.isdir(sub_folder): \n",
    "                os.mkdir(sub_folder)\n",
    "\n",
    "            sub_path = os.path.join(sub_folder, f'sub-{subject}_ses-{session}_ica.nii')\n",
    "\n",
    "            # Retrieve the independent components in brain space. Directly ccessible through attribute `components_img_`.\n",
    "            canica_components_img = canica.components_img_\n",
    "            # components_img is a Nifti Image object, and can be saved to a file with he following line:\n",
    "            canica_components_img.to_filename(sub_path)\n",
    "            \n",
    "            sub_path_fig1 = os.path.join(sub_folder, f'sub-{subject}_ses-{session}_fig1_ica.png')\n",
    "\n",
    "            plot_prob_atlas(canica_components_img, output_file=sub_path_fig1)\n",
    "            \n",
    "            n_columns = 2\n",
    "            n_ica = 20\n",
    "            nrows = int(n_ica / n_columns)\n",
    "            fig, axes = plt.subplots(nrows=nrows, ncols=n_columns, figsize=(20,60))\n",
    "            \n",
    "            sub_path_fig2 = os.path.join(sub_folder, f'sub-{subject}_ses-{session}_fig2_ica.png')\n",
    "\n",
    "            for i, cur_img in enumerate(iter_img(canica_components_img)):\n",
    "                plot_stat_map(cur_img, display_mode=\"z\", title=\"IC %d\" % i,\n",
    "                              output_file=sub_path_fig2,\n",
    "                              cut_coords=3, \n",
    "                              colorbar=False, \n",
    "                              axes=axes[int(i / 2), int(i % 2)])"
   ]
  }
 ],
 "metadata": {
  "kernelspec": {
   "display_name": "Python [conda env:nilearn]",
   "language": "python",
   "name": "conda-env-nilearn-py"
  },
  "language_info": {
   "codemirror_mode": {
    "name": "ipython",
    "version": 3
   },
   "file_extension": ".py",
   "mimetype": "text/x-python",
   "name": "python",
   "nbconvert_exporter": "python",
   "pygments_lexer": "ipython3",
   "version": "3.8.13"
  }
 },
 "nbformat": 4,
 "nbformat_minor": 1
}
