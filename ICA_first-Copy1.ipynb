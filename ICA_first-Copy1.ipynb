{
 "cells": [
  {
   "cell_type": "markdown",
   "metadata": {},
   "source": [
    "<div class=\"alert alert-block alert-info\">\n",
    "<h1 style=\"text-align:center;font-family:avenir;\">ICA first</h1>\n",
    "Lou Planchamp & Victor Férat\n",
    "</div>"
   ]
  },
  {
   "cell_type": "code",
   "execution_count": null,
   "metadata": {},
   "outputs": [],
   "source": [
    "%matplotlib inline"
   ]
  },
  {
   "cell_type": "markdown",
   "metadata": {},
   "source": [
    "\n",
    "# Multivariate decompositions: Independent component analysis of fMRI\n",
    "\n",
    "\n",
    "This example is meant to demonstrate nilearn as a low-level tools used to\n",
    "combine feature extraction with a multivariate decomposition algorithm\n",
    "for movie-watching.\n",
    "\n",
    "This example is a toy. To apply ICA to fmri timeseries data, it is advised\n",
    "to look at the example\n",
    "`sphx_glr_auto_examples_03_connectivity_plot_compare_decomposition.py`.\n",
    "\n",
    "The example here applies the scikit-learn :term:`ICA` to movie watching\n",
    "timeseries data. Note that following the code in the example, any unsupervised\n",
    "decomposition model, or other latent-factor models, can be applied to\n",
    "the data, as the scikit-learn API enables to exchange them as almost\n",
    "black box (though the relevant parameter for brain maps might no longer\n",
    "be given by a call to fit_transform).\n",
    "\n",
    ".. include:: ../../../examples/masker_note.rst\n"
   ]
  },
  {
   "cell_type": "markdown",
   "metadata": {},
   "source": [
    "Load movie watching dataset\n",
    "\n"
   ]
  },
  {
   "cell_type": "code",
   "execution_count": null,
   "metadata": {},
   "outputs": [],
   "source": [
    "from os.path import join\n",
    "from bids import BIDSLayout\n",
    "from bids.tests import get_test_data_path\n",
    "bids_folder = '/home/carole/Bureau/BIDS_fMRIprep'\n",
    "layout = BIDSLayout(bids_folder, derivatives=True)"
   ]
  },
  {
   "cell_type": "code",
   "execution_count": null,
   "metadata": {},
   "outputs": [],
   "source": [
    "layout"
   ]
  },
  {
   "cell_type": "code",
   "execution_count": null,
   "metadata": {},
   "outputs": [],
   "source": [
    "func_filenames = layout.get(task='rest', run=[1,2], space='MNIPediatricAsym', desc='preproc', extension='nii.gz', return_type='filename')"
   ]
  },
  {
   "cell_type": "code",
   "execution_count": null,
   "metadata": {},
   "outputs": [],
   "source": [
    "func_filenames"
   ]
  },
  {
   "cell_type": "code",
   "execution_count": null,
   "metadata": {},
   "outputs": [],
   "source": [
    ",02,05,08 subject=[1], "
   ]
  },
  {
   "cell_type": "code",
   "execution_count": null,
   "metadata": {},
   "outputs": [],
   "source": [
    "confounds = layout.get(task='rest', subject=[1,2,5,8], run=[1,2], desc='confounds', extension='tsv', return_type='filename')"
   ]
  },
  {
   "cell_type": "markdown",
   "metadata": {},
   "source": [
    "Preprocess\n",
    "\n"
   ]
  },
  {
   "cell_type": "code",
   "execution_count": null,
   "metadata": {},
   "outputs": [],
   "source": [
    "func_filenames[0]"
   ]
  },
  {
   "cell_type": "code",
   "execution_count": null,
   "metadata": {},
   "outputs": [],
   "source": [
    "import nilearn\n",
    "img = nilearn.image.load_img(func_filenames[0])"
   ]
  },
  {
   "cell_type": "code",
   "execution_count": null,
   "metadata": {},
   "outputs": [],
   "source": [
    "import pandas as pd\n",
    "confounds = [pd.read_table(confound).fillna(0) for confound in confounds]"
   ]
  },
  {
   "cell_type": "code",
   "execution_count": null,
   "metadata": {},
   "outputs": [],
   "source": [
    "r = canica.transform(func_filenames, confounds=confounds)"
   ]
  },
  {
   "cell_type": "code",
   "execution_count": null,
   "metadata": {},
   "outputs": [],
   "source": [
    "len(confounds)"
   ]
  },
  {
   "cell_type": "code",
   "execution_count": null,
   "metadata": {},
   "outputs": [],
   "source": [
    "len(r)"
   ]
  },
  {
   "cell_type": "code",
   "execution_count": null,
   "metadata": {},
   "outputs": [],
   "source": [
    " nilearn.image.load_img(func_filenames[0]).get_fdata().shape"
   ]
  },
  {
   "cell_type": "code",
   "execution_count": null,
   "metadata": {},
   "outputs": [],
   "source": [
    "corr_matrix = np.corrcoef(r[0].T) - np.corrcoef(r[2].T)"
   ]
  },
  {
   "cell_type": "code",
   "execution_count": null,
   "metadata": {},
   "outputs": [],
   "source": [
    "import seaborn as sns\n",
    "\n",
    "corr_matrix = np.corrcoef(r[0].T)\n",
    "plt.figure(figsize=(8,8))\n",
    "\n",
    "sns.heatmap(np.abs(corr_matrix)*100,\n",
    "            vmin=0, vmax=100, cmap=\"YlGnBu\",\n",
    "            annot=True,\n",
    "            fmt=\".0f\"\n",
    "            )"
   ]
  },
  {
   "cell_type": "code",
   "execution_count": null,
   "metadata": {},
   "outputs": [],
   "source": [
    "import seaborn as sns\n",
    "\n",
    "corr_matrix = np.corrcoef(r[0].T) - np.corrcoef(r[2].T)\n",
    "plt.figure(figsize=(8,8))\n",
    "\n",
    "sns.heatmap(corr_matrix*100,\n",
    "            vmin=-100, vmax=100, cmap=\"RdBu\",\n",
    "            annot=True,\n",
    "            fmt=\".0f\"\n",
    "            )"
   ]
  },
  {
   "cell_type": "code",
   "execution_count": null,
   "metadata": {},
   "outputs": [],
   "source": [
    "func_filenames[0]"
   ]
  },
  {
   "cell_type": "code",
   "execution_count": null,
   "metadata": {
    "scrolled": true
   },
   "outputs": [],
   "source": [
    "from nilearn.decomposition import CanICA\n",
    "\n",
    "canica = CanICA(n_components=20,\n",
    "                memory=\"nilearn_cache\", memory_level=2,\n",
    "                verbose=10,\n",
    "                mask_strategy='whole-brain-template',\n",
    "                random_state=0)\n",
    "canica.fit(func_filenames)\n",
    "\n",
    "# Retrieve the independent components in brain space. Directly\n",
    "# accessible through attribute `components_img_`.\n",
    "canica_components_img = canica.components_img_\n",
    "# components_img is a Nifti Image object, and can be saved to a file with\n",
    "# the following line:\n",
    "canica_components_img.to_filename('canica_resting_state.nii.gz')"
   ]
  },
  {
   "cell_type": "code",
   "execution_count": null,
   "metadata": {},
   "outputs": [],
   "source": [
    "from nilearn.plotting import plot_prob_atlas\n",
    "\n",
    "# Plot all ICA components together\n",
    "plot_prob_atlas(canica_components_img, title='All ICA components')"
   ]
  },
  {
   "cell_type": "code",
   "execution_count": null,
   "metadata": {},
   "outputs": [],
   "source": [
    "from nilearn.plotting import plot_prob_atlas\n",
    "\n",
    "# Plot all ICA components together\n",
    "plot_prob_atlas(canica_components_img, view_type = 'filled_contours',dim=0,display_mode='z',\n",
    "                         cut_coords=5, colorbar=True, title='All ICA components')"
   ]
  },
  {
   "cell_type": "code",
   "execution_count": null,
   "metadata": {
    "scrolled": true
   },
   "outputs": [],
   "source": [
    "from nilearn import plotting\n",
    "plotting.view_img(canica_components_img.slicer[:,:,:,10])\n"
   ]
  },
  {
   "cell_type": "code",
   "execution_count": null,
   "metadata": {
    "scrolled": true
   },
   "outputs": [],
   "source": [
    "from nilearn.image import iter_img\n",
    "from nilearn.plotting import plot_stat_map, show\n",
    "import matplotlib.pyplot as plt\n",
    "\n",
    "#plt.rcParams['axes.facecolor'] = 'white'\n",
    "n_columns = 2\n",
    "n_ica = 20\n",
    "nrows = int(n_ica / n_columns)\n",
    "fig, axes = plt.subplots(nrows=nrows, ncols=n_columns, figsize=(20,60))\n",
    "\n",
    "for i, cur_img in enumerate(iter_img(canica_components_img)):\n",
    "    plot_stat_map(cur_img, display_mode=\"z\", title=\"IC %d\" % i,\n",
    "                  cut_coords=3, \n",
    "                  colorbar=False, \n",
    "                  axes=axes[int(i / 2), int(i % 2)])"
   ]
  },
  {
   "cell_type": "markdown",
   "metadata": {},
   "source": [
    "Apply ICA\n",
    "\n"
   ]
  },
  {
   "cell_type": "code",
   "execution_count": null,
   "metadata": {},
   "outputs": [],
   "source": [
    "from sklearn.decomposition import FastICA\n",
    "n_components = 10\n",
    "ica = FastICA(n_components=n_components, random_state=42)\n",
    "components_masked = ica.fit_transform(data_masked.T).T\n",
    "\n",
    "# Normalize estimated components, for thresholding to make sense\n",
    "components_masked -= components_masked.mean(axis=0)\n",
    "components_masked /= components_masked.std(axis=0)\n",
    "# Threshold\n",
    "import numpy as np\n",
    "components_masked[np.abs(components_masked) < .8] = 0\n",
    "\n",
    "# Now invert the masking operation, going back to a full 3D\n",
    "# representation\n",
    "component_img = masker.inverse_transform(components_masked)"
   ]
  },
  {
   "cell_type": "markdown",
   "metadata": {},
   "source": [
    "Visualize the results\n",
    "\n"
   ]
  },
  {
   "cell_type": "code",
   "execution_count": null,
   "metadata": {
    "scrolled": true
   },
   "outputs": [],
   "source": [
    "# Show some interesting components\n",
    "from nilearn import image\n",
    "from nilearn.plotting import plot_stat_map, show\n",
    "\n",
    "# Use the mean as a background\n",
    "mean_img = image.mean_img(func_filename)\n",
    "\n",
    "plot_stat_map(image.index_img(component_img, 0), mean_img)\n",
    "\n",
    "plot_stat_map(image.index_img(component_img, 1), mean_img)\n",
    "\n",
    "plot_stat_map(image.index_img(component_img, 2), mean_img)\n",
    "\n",
    "plot_stat_map(image.index_img(component_img, 3), mean_img)\n",
    "\n",
    "show()"
   ]
  },
  {
   "cell_type": "code",
   "execution_count": null,
   "metadata": {
    "scrolled": true
   },
   "outputs": [],
   "source": [
    "for subject in layout.get_subjects():\n",
    "    if subject not in ['07']:\n",
    "        for session in layout.get_sessions(subject=subject):\n",
    "            f = layout.get(task='rest', subject=subject, session=session,\n",
    "                           space='MNIPediatricAsym', desc='preproc', extension='nii.gz', \n",
    "                           return_type='filename')\n",
    "\n",
    "            print(subject, session, f)\n",
    "\n",
    "            canica = CanICA(n_components=20,\n",
    "                            memory=\"nilearn_cache\", memory_level=2,\n",
    "                            verbose=1,\n",
    "                            mask_strategy='whole-brain-template',\n",
    "                            smoothing_fwhm=10,\n",
    "                            random_state=0)\n",
    "            canica.fit(f)\n",
    "\n",
    "\n",
    "            if not os.path.isdir('ICA'):\n",
    "                os.mkdir('ICA')\n",
    "            if not os.path.isdir('ICA/individual'): \n",
    "                os.mkdir('ICA/individual')\n",
    "            sub_folder = f'ICA/individual/{subject}'\n",
    "            if not os.path.isdir(sub_folder): \n",
    "                os.mkdir(sub_folder)\n",
    "\n",
    "            sub_path = os.path.join(sub_folder, f'sub-{subject}_ses-{session}_ica.nii')\n",
    "\n",
    "            # Retrieve the independent components in brain space. Directly ccessible through attribute `components_img_`.\n",
    "            canica_components_img = canica.components_img_\n",
    "            # components_img is a Nifti Image object, and can be saved to a file with he following line:\n",
    "            canica_components_img.to_filename(sub_path)\n",
    "            \n",
    "            sub_path_fig1 = os.path.join(sub_folder, f'sub-{subject}_ses-{session}_fig1_ica.png')\n",
    "\n",
    "            plot_prob_atlas(canica_components_img, output_file=sub_path_fig1)\n",
    "            \n",
    "            n_columns = 2\n",
    "            n_ica = 20\n",
    "            nrows = int(n_ica / n_columns)\n",
    "            fig, axes = plt.subplots(nrows=nrows, ncols=n_columns, figsize=(20,60))\n",
    "            \n",
    "            sub_path_fig2 = os.path.join(sub_folder, f'sub-{subject}_ses-{session}_fig2_ica.png')\n",
    "\n",
    "            for i, cur_img in enumerate(iter_img(canica_components_img)):\n",
    "                plot_stat_map(cur_img, display_mode=\"z\", title=\"IC %d\" % i,\n",
    "                              output_file=sub_path_fig2,\n",
    "                              cut_coords=3, \n",
    "                              colorbar=False, \n",
    "                              axes=axes[int(i / 2), int(i % 2)])\n",
    "\n"
   ]
  },
  {
   "cell_type": "code",
   "execution_count": null,
   "metadata": {
    "scrolled": true
   },
   "outputs": [],
   "source": [
    "for subject in layout.get_subjects():\n",
    "    if subject not in ['07']:\n",
    "        for session in layout.get_sessions(subject=subject):\n",
    "            f = layout.get(task='rest', subject=['07'], session=session,\n",
    "                           space='MNIPediatricAsym', desc='preproc', extension='nii.gz', \n",
    "                           return_type='filename')\n",
    "\n",
    "            print(subject, session, f)\n",
    "\n",
    "            canica = CanICA(n_components=20,\n",
    "                            memory=\"nilearn_cache\", memory_level=2,\n",
    "                            verbose=1,\n",
    "                            mask_strategy='whole-brain-template',\n",
    "                            smoothing_fwhm=10,\n",
    "                            random_state=0)\n",
    "            canica.fit(f)\n",
    "\n",
    "\n",
    "            if not os.path.isdir('ICA'):\n",
    "                os.mkdir('ICA')\n",
    "            if not os.path.isdir('ICA/individual'): \n",
    "                os.mkdir('ICA/individual')\n",
    "            sub_folder = f'ICA/individual/{subject}'\n",
    "            if not os.path.isdir(sub_folder): \n",
    "                os.mkdir(sub_folder)\n",
    "\n",
    "            sub_path = os.path.join(sub_folder, f'sub-{subject}_ses-{session}_ica.nii')\n",
    "\n",
    "            # Retrieve the independent components in brain space. Directly ccessible through attribute `components_img_`.\n",
    "            canica_components_img = canica.components_img_\n",
    "            # components_img is a Nifti Image object, and can be saved to a file with he following line:\n",
    "            canica_components_img.to_filename(sub_path)\n",
    "            \n",
    "            sub_path_fig1 = os.path.join(sub_folder, f'sub-{subject}_ses-{session}_fig1_ica.png')\n",
    "\n",
    "            plot_prob_atlas(canica_components_img, output_file=sub_path_fig1)\n",
    "            \n",
    "            n_columns = 2\n",
    "            n_ica = 20\n",
    "            nrows = int(n_ica / n_columns)\n",
    "            fig, axes = plt.subplots(nrows=nrows, ncols=n_columns, figsize=(20,60))\n",
    "            \n",
    "            sub_path_fig2 = os.path.join(sub_folder, f'sub-{subject}_ses-{session}_fig2_ica.png')\n",
    "\n",
    "            for i, cur_img in enumerate(iter_img(canica_components_img)):\n",
    "                plot_stat_map(cur_img, display_mode=\"z\", title=\"IC %d\" % i,\n",
    "                              output_file=sub_path_fig2,\n",
    "                              cut_coords=3, \n",
    "                              colorbar=False, \n",
    "                              axes=axes[int(i / 2), int(i % 2)])\n",
    "\n"
   ]
  },
  {
   "cell_type": "code",
   "execution_count": null,
   "metadata": {},
   "outputs": [],
   "source": [
    "\n",
    "wiw='/home/carole/Bureau/nilearn/ICA/individual/08/sub-08_ses-11_ica.nii'\n",
    "plot_prob_atlas(wiw)"
   ]
  },
  {
   "cell_type": "code",
   "execution_count": null,
   "metadata": {},
   "outputs": [],
   "source": []
  }
 ],
 "metadata": {
  "kernelspec": {
   "display_name": "Python [conda env:nilearn]",
   "language": "python",
   "name": "conda-env-nilearn-py"
  },
  "language_info": {
   "codemirror_mode": {
    "name": "ipython",
    "version": 3
   },
   "file_extension": ".py",
   "mimetype": "text/x-python",
   "name": "python",
   "nbconvert_exporter": "python",
   "pygments_lexer": "ipython3",
   "version": "3.8.13"
  }
 },
 "nbformat": 4,
 "nbformat_minor": 1
}
