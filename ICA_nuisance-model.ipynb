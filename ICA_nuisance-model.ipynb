{
 "cells": [
  {
   "cell_type": "markdown",
   "metadata": {},
   "source": [
    "<div class=\"alert alert-block alert-info\">\n",
    "<h1 style=\"text-align:center;font-family:avenir;\">ICA first</h1>\n",
    "Lou Planchamp & Victor Férat\n",
    "</div>"
   ]
  },
  {
   "cell_type": "code",
   "execution_count": 1,
   "metadata": {},
   "outputs": [],
   "source": [
    "%matplotlib inline"
   ]
  },
  {
   "cell_type": "code",
   "execution_count": 36,
   "metadata": {},
   "outputs": [],
   "source": [
    "from nilearn import plotting\n",
    "from nilearn.plotting import plot_stat_map\n",
    "import pandas as pd\n",
    "from nilearn.glm.first_level import FirstLevelModel\n",
    "from numpy import array\n",
    "import os\n",
    "from nilearn.plotting import plot_design_matrix\n",
    "import numpy as np\n",
    "import matplotlib.pyplot as plt\n",
    "from nilearn.glm.second_level import SecondLevelModel\n",
    "\n",
    "from os.path import join\n",
    "from bids import BIDSLayout\n",
    "from bids.tests import get_test_data_path\n",
    "from nilearn.plotting import plot_prob_atlas\n",
    "from nilearn.image import iter_img\n",
    "from nilearn.plotting import plot_stat_map, show\n",
    "\n",
    "\n",
    "from nilearn.decomposition import CanICA"
   ]
  },
  {
   "cell_type": "markdown",
   "metadata": {},
   "source": [
    "Here, thanks to BIDSLayout, we define whitch files we want to work on (all the resting states) and whitch files to use for the preprocessing (confounds)"
   ]
  },
  {
   "cell_type": "code",
   "execution_count": 41,
   "metadata": {},
   "outputs": [
    {
     "data": {
      "text/plain": [
       "BIDS Layout: ...me/carole/Bureau/BIDS_fMRIprep | Subjects: 5 | Sessions: 10 | Runs: 11"
      ]
     },
     "execution_count": 41,
     "metadata": {},
     "output_type": "execute_result"
    }
   ],
   "source": [
    "bids_folder = '/home/carole/Bureau/BIDS_fMRIprep'\n",
    "layout = BIDSLayout(bids_folder, derivatives=True)\n",
    "layout"
   ]
  },
  {
   "cell_type": "markdown",
   "metadata": {},
   "source": [
    "nuisance model fund on https://carpentries-incubator.github.io/SDC-BIDS-fMRI/05-data-cleaning-with-nilearn/index.html"
   ]
  },
  {
   "cell_type": "code",
   "execution_count": 12,
   "metadata": {},
   "outputs": [],
   "source": [
    "import os\n",
    "from nilearn import image as nimg\n",
    "from nilearn import plotting as nplot\n",
    "#import matplotilb.pyplot as plt\n",
    "import numpy as np\n",
    "import nibabel as nib\n",
    "%matplotlib inline"
   ]
  },
  {
   "cell_type": "code",
   "execution_count": 10,
   "metadata": {},
   "outputs": [],
   "source": [
    "import pandas as pd"
   ]
  },
  {
   "cell_type": "code",
   "execution_count": 42,
   "metadata": {},
   "outputs": [],
   "source": [
    "sub = '01'"
   ]
  },
  {
   "cell_type": "code",
   "execution_count": 44,
   "metadata": {},
   "outputs": [],
   "source": [
    "func_files = layout.get(subject=sub, session='02', run='01',\n",
    "                        datatype='func', task='rest',\n",
    "                        desc='preproc',\n",
    "                        space='MNIPediatricAsym',\n",
    "                        extension='nii.gz',\n",
    "                       return_type='file')\n",
    "\n",
    "mask_files = layout.get(subject=sub, session='02', run='01',\n",
    "                        datatype='func', task='rest',\n",
    "                        desc='brain',\n",
    "                        suffix='mask',\n",
    "                        space='MNIPediatricAsym',\n",
    "                        extension=\"nii.gz\",\n",
    "                       return_type='file')\n",
    " \n",
    "confound_files = layout.get(subject=sub, session='02', run='01',\n",
    "                            datatype='func', task='rest',\n",
    "                            desc='confounds',\n",
    "                           extension=\"tsv\",\n",
    "                           return_type='file')"
   ]
  },
  {
   "cell_type": "code",
   "execution_count": 46,
   "metadata": {},
   "outputs": [],
   "source": [
    "func_file = func_files[0]\n",
    "mask_file = mask_files[0]\n",
    "confound_file = confound_files[0]"
   ]
  },
  {
   "cell_type": "code",
   "execution_count": 48,
   "metadata": {},
   "outputs": [
    {
     "data": {
      "text/html": [
       "<div>\n",
       "<style scoped>\n",
       "    .dataframe tbody tr th:only-of-type {\n",
       "        vertical-align: middle;\n",
       "    }\n",
       "\n",
       "    .dataframe tbody tr th {\n",
       "        vertical-align: top;\n",
       "    }\n",
       "\n",
       "    .dataframe thead th {\n",
       "        text-align: right;\n",
       "    }\n",
       "</style>\n",
       "<table border=\"1\" class=\"dataframe\">\n",
       "  <thead>\n",
       "    <tr style=\"text-align: right;\">\n",
       "      <th></th>\n",
       "      <th>global_signal</th>\n",
       "      <th>global_signal_derivative1</th>\n",
       "      <th>global_signal_derivative1_power2</th>\n",
       "      <th>global_signal_power2</th>\n",
       "      <th>csf</th>\n",
       "      <th>csf_derivative1</th>\n",
       "      <th>csf_derivative1_power2</th>\n",
       "      <th>csf_power2</th>\n",
       "      <th>white_matter</th>\n",
       "      <th>white_matter_derivative1</th>\n",
       "      <th>...</th>\n",
       "      <th>motion_outlier69</th>\n",
       "      <th>motion_outlier70</th>\n",
       "      <th>motion_outlier71</th>\n",
       "      <th>motion_outlier72</th>\n",
       "      <th>motion_outlier73</th>\n",
       "      <th>motion_outlier74</th>\n",
       "      <th>motion_outlier75</th>\n",
       "      <th>motion_outlier76</th>\n",
       "      <th>motion_outlier77</th>\n",
       "      <th>motion_outlier78</th>\n",
       "    </tr>\n",
       "  </thead>\n",
       "  <tbody>\n",
       "    <tr>\n",
       "      <th>0</th>\n",
       "      <td>639.415931</td>\n",
       "      <td>NaN</td>\n",
       "      <td>NaN</td>\n",
       "      <td>408852.733337</td>\n",
       "      <td>760.600087</td>\n",
       "      <td>NaN</td>\n",
       "      <td>NaN</td>\n",
       "      <td>578512.492765</td>\n",
       "      <td>661.915190</td>\n",
       "      <td>NaN</td>\n",
       "      <td>...</td>\n",
       "      <td>0.0</td>\n",
       "      <td>0.0</td>\n",
       "      <td>0.0</td>\n",
       "      <td>0.0</td>\n",
       "      <td>0.0</td>\n",
       "      <td>0.0</td>\n",
       "      <td>0.0</td>\n",
       "      <td>0.0</td>\n",
       "      <td>0.0</td>\n",
       "      <td>0.0</td>\n",
       "    </tr>\n",
       "    <tr>\n",
       "      <th>1</th>\n",
       "      <td>635.508164</td>\n",
       "      <td>-3.907767</td>\n",
       "      <td>15.270645</td>\n",
       "      <td>403870.626640</td>\n",
       "      <td>752.670444</td>\n",
       "      <td>-7.929643</td>\n",
       "      <td>62.879239</td>\n",
       "      <td>566512.797591</td>\n",
       "      <td>659.286386</td>\n",
       "      <td>-2.628805</td>\n",
       "      <td>...</td>\n",
       "      <td>0.0</td>\n",
       "      <td>0.0</td>\n",
       "      <td>0.0</td>\n",
       "      <td>0.0</td>\n",
       "      <td>0.0</td>\n",
       "      <td>0.0</td>\n",
       "      <td>0.0</td>\n",
       "      <td>0.0</td>\n",
       "      <td>0.0</td>\n",
       "      <td>0.0</td>\n",
       "    </tr>\n",
       "    <tr>\n",
       "      <th>2</th>\n",
       "      <td>635.143267</td>\n",
       "      <td>-0.364897</td>\n",
       "      <td>0.133150</td>\n",
       "      <td>403406.969496</td>\n",
       "      <td>755.056716</td>\n",
       "      <td>2.386272</td>\n",
       "      <td>5.694294</td>\n",
       "      <td>570110.644804</td>\n",
       "      <td>659.318649</td>\n",
       "      <td>0.032264</td>\n",
       "      <td>...</td>\n",
       "      <td>0.0</td>\n",
       "      <td>0.0</td>\n",
       "      <td>0.0</td>\n",
       "      <td>0.0</td>\n",
       "      <td>0.0</td>\n",
       "      <td>0.0</td>\n",
       "      <td>0.0</td>\n",
       "      <td>0.0</td>\n",
       "      <td>0.0</td>\n",
       "      <td>0.0</td>\n",
       "    </tr>\n",
       "    <tr>\n",
       "      <th>3</th>\n",
       "      <td>632.560471</td>\n",
       "      <td>-2.582796</td>\n",
       "      <td>6.670835</td>\n",
       "      <td>400132.749503</td>\n",
       "      <td>743.011377</td>\n",
       "      <td>-12.045339</td>\n",
       "      <td>145.090187</td>\n",
       "      <td>552065.907076</td>\n",
       "      <td>656.313738</td>\n",
       "      <td>-3.004912</td>\n",
       "      <td>...</td>\n",
       "      <td>0.0</td>\n",
       "      <td>0.0</td>\n",
       "      <td>0.0</td>\n",
       "      <td>0.0</td>\n",
       "      <td>0.0</td>\n",
       "      <td>0.0</td>\n",
       "      <td>0.0</td>\n",
       "      <td>0.0</td>\n",
       "      <td>0.0</td>\n",
       "      <td>0.0</td>\n",
       "    </tr>\n",
       "    <tr>\n",
       "      <th>4</th>\n",
       "      <td>634.725608</td>\n",
       "      <td>2.165137</td>\n",
       "      <td>4.687817</td>\n",
       "      <td>402876.597045</td>\n",
       "      <td>746.494014</td>\n",
       "      <td>3.482636</td>\n",
       "      <td>12.128754</td>\n",
       "      <td>557253.312375</td>\n",
       "      <td>658.056136</td>\n",
       "      <td>1.742398</td>\n",
       "      <td>...</td>\n",
       "      <td>0.0</td>\n",
       "      <td>0.0</td>\n",
       "      <td>0.0</td>\n",
       "      <td>0.0</td>\n",
       "      <td>0.0</td>\n",
       "      <td>0.0</td>\n",
       "      <td>0.0</td>\n",
       "      <td>0.0</td>\n",
       "      <td>0.0</td>\n",
       "      <td>0.0</td>\n",
       "    </tr>\n",
       "  </tbody>\n",
       "</table>\n",
       "<p>5 rows × 137 columns</p>\n",
       "</div>"
      ],
      "text/plain": [
       "   global_signal  global_signal_derivative1  global_signal_derivative1_power2  \\\n",
       "0     639.415931                        NaN                               NaN   \n",
       "1     635.508164                  -3.907767                         15.270645   \n",
       "2     635.143267                  -0.364897                          0.133150   \n",
       "3     632.560471                  -2.582796                          6.670835   \n",
       "4     634.725608                   2.165137                          4.687817   \n",
       "\n",
       "   global_signal_power2         csf  csf_derivative1  csf_derivative1_power2  \\\n",
       "0         408852.733337  760.600087              NaN                     NaN   \n",
       "1         403870.626640  752.670444        -7.929643               62.879239   \n",
       "2         403406.969496  755.056716         2.386272                5.694294   \n",
       "3         400132.749503  743.011377       -12.045339              145.090187   \n",
       "4         402876.597045  746.494014         3.482636               12.128754   \n",
       "\n",
       "      csf_power2  white_matter  white_matter_derivative1  ...  \\\n",
       "0  578512.492765    661.915190                       NaN  ...   \n",
       "1  566512.797591    659.286386                 -2.628805  ...   \n",
       "2  570110.644804    659.318649                  0.032264  ...   \n",
       "3  552065.907076    656.313738                 -3.004912  ...   \n",
       "4  557253.312375    658.056136                  1.742398  ...   \n",
       "\n",
       "   motion_outlier69  motion_outlier70  motion_outlier71  motion_outlier72  \\\n",
       "0               0.0               0.0               0.0               0.0   \n",
       "1               0.0               0.0               0.0               0.0   \n",
       "2               0.0               0.0               0.0               0.0   \n",
       "3               0.0               0.0               0.0               0.0   \n",
       "4               0.0               0.0               0.0               0.0   \n",
       "\n",
       "   motion_outlier73  motion_outlier74  motion_outlier75  motion_outlier76  \\\n",
       "0               0.0               0.0               0.0               0.0   \n",
       "1               0.0               0.0               0.0               0.0   \n",
       "2               0.0               0.0               0.0               0.0   \n",
       "3               0.0               0.0               0.0               0.0   \n",
       "4               0.0               0.0               0.0               0.0   \n",
       "\n",
       "   motion_outlier77  motion_outlier78  \n",
       "0               0.0               0.0  \n",
       "1               0.0               0.0  \n",
       "2               0.0               0.0  \n",
       "3               0.0               0.0  \n",
       "4               0.0               0.0  \n",
       "\n",
       "[5 rows x 137 columns]"
      ]
     },
     "execution_count": 48,
     "metadata": {},
     "output_type": "execute_result"
    }
   ],
   "source": [
    "#Delimiter is \\t --> tsv is a tab-separated spreadsheet\n",
    "confound_df = pd.read_csv(confound_file, delimiter='\\t')\n",
    "confound_df.head()"
   ]
  },
  {
   "cell_type": "code",
   "execution_count": 49,
   "metadata": {},
   "outputs": [],
   "source": [
    "confound_vars =['csf', \n",
    "              'white_matter', \n",
    "              'trans_x', 'trans_x_derivative1', 'trans_x_derivative1_power2', \n",
    "              'trans_y', 'trans_y_derivative1', 'trans_y_derivative1_power2', \n",
    "              'trans_z', 'trans_z_derivative1', 'trans_z_derivative1_power2', \n",
    "              'rot_x', 'rot_x_derivative1', 'rot_x_derivative1_power2', \n",
    "              'rot_y', 'rot_y_derivative1', 'rot_y_derivative1_power2', \n",
    "              'rot_z', 'rot_z_derivative1', 'rot_z_derivative1_power2'\n",
    "             ]"
   ]
  },
  {
   "cell_type": "code",
   "execution_count": 50,
   "metadata": {},
   "outputs": [
    {
     "name": "stdout",
     "output_type": "stream",
     "text": [
      "['csf_derivative1', 'white_matter_derivative1', 'trans_x_derivative1', 'trans_x_derivative1_derivative1', 'trans_x_derivative1_power2_derivative1', 'trans_y_derivative1', 'trans_y_derivative1_derivative1', 'trans_y_derivative1_power2_derivative1', 'trans_z_derivative1', 'trans_z_derivative1_derivative1', 'trans_z_derivative1_power2_derivative1', 'rot_x_derivative1', 'rot_x_derivative1_derivative1', 'rot_x_derivative1_power2_derivative1', 'rot_y_derivative1', 'rot_y_derivative1_derivative1', 'rot_y_derivative1_power2_derivative1', 'rot_z_derivative1', 'rot_z_derivative1_derivative1', 'rot_z_derivative1_power2_derivative1']\n"
     ]
    }
   ],
   "source": [
    "# Get derivative column names\n",
    "derivative_columns = ['{}_derivative1'.format(c) for c\n",
    "                     in confound_vars]\n",
    "\n",
    "print(derivative_columns)"
   ]
  },
  {
   "cell_type": "code",
   "execution_count": 57,
   "metadata": {},
   "outputs": [
    {
     "name": "stdout",
     "output_type": "stream",
     "text": [
      "['csf', 'white_matter', 'trans_x', 'trans_x_derivative1', 'trans_x_derivative1_power2', 'trans_y', 'trans_y_derivative1', 'trans_y_derivative1_power2', 'trans_z', 'trans_z_derivative1', 'trans_z_derivative1_power2', 'rot_x', 'rot_x_derivative1', 'rot_x_derivative1_power2', 'rot_y', 'rot_y_derivative1', 'rot_y_derivative1_power2', 'rot_z', 'rot_z_derivative1', 'rot_z_derivative1_power2', 'csf_derivative1', 'white_matter_derivative1', 'trans_x_derivative1', 'trans_x_derivative1_derivative1', 'trans_x_derivative1_power2_derivative1', 'trans_y_derivative1', 'trans_y_derivative1_derivative1', 'trans_y_derivative1_power2_derivative1', 'trans_z_derivative1', 'trans_z_derivative1_derivative1', 'trans_z_derivative1_power2_derivative1', 'rot_x_derivative1', 'rot_x_derivative1_derivative1', 'rot_x_derivative1_power2_derivative1', 'rot_y_derivative1', 'rot_y_derivative1_derivative1', 'rot_y_derivative1_power2_derivative1', 'rot_z_derivative1', 'rot_z_derivative1_derivative1', 'rot_z_derivative1_power2_derivative1']\n"
     ]
    }
   ],
   "source": [
    "final_confounds = confound_vars + derivative_columns\n",
    "print(final_confounds)"
   ]
  },
  {
   "cell_type": "code",
   "execution_count": 69,
   "metadata": {},
   "outputs": [
    {
     "data": {
      "text/html": [
       "<div>\n",
       "<style scoped>\n",
       "    .dataframe tbody tr th:only-of-type {\n",
       "        vertical-align: middle;\n",
       "    }\n",
       "\n",
       "    .dataframe tbody tr th {\n",
       "        vertical-align: top;\n",
       "    }\n",
       "\n",
       "    .dataframe thead th {\n",
       "        text-align: right;\n",
       "    }\n",
       "</style>\n",
       "<table border=\"1\" class=\"dataframe\">\n",
       "  <thead>\n",
       "    <tr style=\"text-align: right;\">\n",
       "      <th></th>\n",
       "      <th>csf</th>\n",
       "      <th>white_matter</th>\n",
       "      <th>trans_x</th>\n",
       "      <th>trans_x_derivative1</th>\n",
       "      <th>trans_x_derivative1_power2</th>\n",
       "      <th>trans_y</th>\n",
       "      <th>trans_y_derivative1</th>\n",
       "      <th>trans_y_derivative1_power2</th>\n",
       "      <th>trans_z</th>\n",
       "      <th>trans_z_derivative1</th>\n",
       "      <th>...</th>\n",
       "      <th>trans_z_derivative1_power2_derivative1</th>\n",
       "      <th>rot_x_derivative1</th>\n",
       "      <th>rot_x_derivative1_derivative1</th>\n",
       "      <th>rot_x_derivative1_power2_derivative1</th>\n",
       "      <th>rot_y_derivative1</th>\n",
       "      <th>rot_y_derivative1_derivative1</th>\n",
       "      <th>rot_y_derivative1_power2_derivative1</th>\n",
       "      <th>rot_z_derivative1</th>\n",
       "      <th>rot_z_derivative1_derivative1</th>\n",
       "      <th>rot_z_derivative1_power2_derivative1</th>\n",
       "    </tr>\n",
       "  </thead>\n",
       "  <tbody>\n",
       "  </tbody>\n",
       "</table>\n",
       "<p>0 rows × 40 columns</p>\n",
       "</div>"
      ],
      "text/plain": [
       "Empty DataFrame\n",
       "Columns: [csf, white_matter, trans_x, trans_x_derivative1, trans_x_derivative1_power2, trans_y, trans_y_derivative1, trans_y_derivative1_power2, trans_z, trans_z_derivative1, trans_z_derivative1_power2, rot_x, rot_x_derivative1, rot_x_derivative1_power2, rot_y, rot_y_derivative1, rot_y_derivative1_power2, rot_z, rot_z_derivative1, rot_z_derivative1_power2, csf_derivative1, white_matter_derivative1, trans_x_derivative1, trans_x_derivative1_derivative1, trans_x_derivative1_power2_derivative1, trans_y_derivative1, trans_y_derivative1_derivative1, trans_y_derivative1_power2_derivative1, trans_z_derivative1, trans_z_derivative1_derivative1, trans_z_derivative1_power2_derivative1, rot_x_derivative1, rot_x_derivative1_derivative1, rot_x_derivative1_power2_derivative1, rot_y_derivative1, rot_y_derivative1_derivative1, rot_y_derivative1_power2_derivative1, rot_z_derivative1, rot_z_derivative1_derivative1, rot_z_derivative1_power2_derivative1]\n",
       "Index: []\n",
       "\n",
       "[0 rows x 40 columns]"
      ]
     },
     "execution_count": 69,
     "metadata": {},
     "output_type": "execute_result"
    }
   ],
   "source": [
    "confound_df = pd.DataFrame(columns=final_confounds)\n",
    "confound_df.head()"
   ]
  },
  {
   "cell_type": "code",
   "execution_count": 70,
   "metadata": {},
   "outputs": [
    {
     "ename": "NameError",
     "evalue": "name 'func' is not defined",
     "output_type": "error",
     "traceback": [
      "\u001b[0;31m---------------------------------------------------------------------------\u001b[0m",
      "\u001b[0;31mNameError\u001b[0m                                 Traceback (most recent call last)",
      "Cell \u001b[0;32mIn [70], line 1\u001b[0m\n\u001b[0;32m----> 1\u001b[0m raw_func_img \u001b[38;5;241m=\u001b[39m nimg\u001b[38;5;241m.\u001b[39mload_img(\u001b[43mfunc\u001b[49m)\n\u001b[1;32m      2\u001b[0m raw_func_img\u001b[38;5;241m.\u001b[39mshape\n",
      "\u001b[0;31mNameError\u001b[0m: name 'func' is not defined"
     ]
    }
   ],
   "source": [
    "raw_func_img = nimg.load_img(func)\n",
    "raw_func_img.shape"
   ]
  },
  {
   "cell_type": "markdown",
   "metadata": {},
   "source": [
    "Group ICA"
   ]
  },
  {
   "cell_type": "code",
   "execution_count": null,
   "metadata": {},
   "outputs": [],
   "source": [
    "canica = CanICA(n_components=20,\n",
    "                memory=\"nilearn_cache\", memory_level=2,\n",
    "                verbose=10,\n",
    "                mask_strategy='whole-brain-template',\n",
    "                random_state=0)\n",
    "canica.fit(func_filenames)\n",
    "\n",
    "# Retrieve the independent components in brain space. Directly accessible through attribute `components_img_`.\n",
    "canica_components_img = canica.components_img_\n",
    "\n",
    "# components_img is a Nifti Image object, and can be saved to a file with the following line:\n",
    "\n",
    "if not os.path.isdir('ICA'): \n",
    "    os.mkdir('ICA')\n",
    "if not os.path.isdir('ICA/group'): \n",
    "    os.mkdir('ICA/group')\n",
    "canica_components_img.to_filename('ICA/group/canica_resting_state_wo-sub.nii.gz')"
   ]
  },
  {
   "cell_type": "code",
   "execution_count": null,
   "metadata": {},
   "outputs": [],
   "source": [
    "plot_prob_atlas(canica_components_img, title='All ICA components', output_file='ICA/group/canica_resting_state_wo-sub.png')"
   ]
  },
  {
   "cell_type": "code",
   "execution_count": null,
   "metadata": {},
   "outputs": [],
   "source": [
    "n_columns = 2\n",
    "n_ica = 20\n",
    "nrows = int(n_ica / n_columns)\n",
    "fig, axes = plt.subplots(nrows=nrows, ncols=n_columns, figsize=(20,60))\n",
    "\n",
    "for i, cur_img in enumerate(iter_img(canica_components_img)):\n",
    "    plot_stat_map(cur_img, display_mode=\"z\", title=\"IC %d\" % i,\n",
    "                  cut_coords=3, \n",
    "                  colorbar=False, \n",
    "                  axes=axes[int(i / 2), int(i % 2)],\n",
    "                  output_file='ICA/group/canica_resting_state_wo-sub_fig2.png')"
   ]
  },
  {
   "cell_type": "markdown",
   "metadata": {},
   "source": [
    "This following loop does an ICA for each subject individualy"
   ]
  },
  {
   "cell_type": "code",
   "execution_count": null,
   "metadata": {},
   "outputs": [],
   "source": [
    "for subject in layout.get_subjects():\n",
    "    if subject not in ['07']:\n",
    "        for session in layout.get_sessions(subject=subject):\n",
    "            f = layout.get(task='rest', subject=['07'], session=session,\n",
    "                           space='MNIPediatricAsym', desc='preproc', extension='nii.gz', \n",
    "                           return_type='filename')\n",
    "\n",
    "            print(subject, session, f)\n",
    "\n",
    "            canica = CanICA(n_components=20,\n",
    "                            memory=\"nilearn_cache\", memory_level=2,\n",
    "                            verbose=1,\n",
    "                            mask_strategy='whole-brain-template',\n",
    "                            smoothing_fwhm=10,\n",
    "                            random_state=0)\n",
    "            canica.fit(f)\n",
    "\n",
    "\n",
    "            if not os.path.isdir('ICA'):\n",
    "                os.mkdir('ICA')\n",
    "            if not os.path.isdir('ICA/individual'): \n",
    "                os.mkdir('ICA/individual')\n",
    "            sub_folder = f'ICA/individual/{subject}'\n",
    "            if not os.path.isdir(sub_folder): \n",
    "                os.mkdir(sub_folder)\n",
    "\n",
    "            sub_path = os.path.join(sub_folder, f'sub-{subject}_ses-{session}_ica.nii')\n",
    "\n",
    "            # Retrieve the independent components in brain space. Directly ccessible through attribute `components_img_`.\n",
    "            canica_components_img = canica.components_img_\n",
    "            # components_img is a Nifti Image object, and can be saved to a file with he following line:\n",
    "            canica_components_img.to_filename(sub_path)\n",
    "            \n",
    "            sub_path_fig1 = os.path.join(sub_folder, f'sub-{subject}_ses-{session}_fig1_ica.png')\n",
    "\n",
    "            plot_prob_atlas(canica_components_img, output_file=sub_path_fig1)\n",
    "            \n",
    "            n_columns = 2\n",
    "            n_ica = 20\n",
    "            nrows = int(n_ica / n_columns)\n",
    "            fig, axes = plt.subplots(nrows=nrows, ncols=n_columns, figsize=(20,60))\n",
    "            \n",
    "            sub_path_fig2 = os.path.join(sub_folder, f'sub-{subject}_ses-{session}_fig2_ica.png')\n",
    "\n",
    "            for i, cur_img in enumerate(iter_img(canica_components_img)):\n",
    "                plot_stat_map(cur_img, display_mode=\"z\", title=\"IC %d\" % i,\n",
    "                              output_file=sub_path_fig2,\n",
    "                              cut_coords=3, \n",
    "                              colorbar=False, \n",
    "                              axes=axes[int(i / 2), int(i % 2)])"
   ]
  },
  {
   "cell_type": "code",
   "execution_count": 73,
   "metadata": {},
   "outputs": [],
   "source": [
    "func_filename='/home/carole/Bureau/nilearn/ICA/group/canica_resting_state_wo-sub.nii.gz'"
   ]
  },
  {
   "cell_type": "code",
   "execution_count": 80,
   "metadata": {},
   "outputs": [],
   "source": [
    "from nilearn import image\n",
    "\n",
    "data = image.load_img(func_filename).get_fdata()"
   ]
  },
  {
   "cell_type": "code",
   "execution_count": 81,
   "metadata": {},
   "outputs": [
    {
     "data": {
      "text/plain": [
       "0.00010725250814379367"
      ]
     },
     "execution_count": 81,
     "metadata": {},
     "output_type": "execute_result"
    }
   ],
   "source": [
    "data.mean()"
   ]
  },
  {
   "cell_type": "code",
   "execution_count": 82,
   "metadata": {},
   "outputs": [
    {
     "data": {
      "text/plain": [
       "0.03219217973535315"
      ]
     },
     "execution_count": 82,
     "metadata": {},
     "output_type": "execute_result"
    }
   ],
   "source": [
    "data.max()"
   ]
  },
  {
   "cell_type": "code",
   "execution_count": 83,
   "metadata": {},
   "outputs": [
    {
     "data": {
      "text/plain": [
       "-0.019758241368737238"
      ]
     },
     "execution_count": 83,
     "metadata": {},
     "output_type": "execute_result"
    }
   ],
   "source": [
    "data.min()"
   ]
  },
  {
   "cell_type": "code",
   "execution_count": null,
   "metadata": {},
   "outputs": [],
   "source": []
  }
 ],
 "metadata": {
  "kernelspec": {
   "display_name": "Python [conda env:nilearn]",
   "language": "python",
   "name": "conda-env-nilearn-py"
  },
  "language_info": {
   "codemirror_mode": {
    "name": "ipython",
    "version": 3
   },
   "file_extension": ".py",
   "mimetype": "text/x-python",
   "name": "python",
   "nbconvert_exporter": "python",
   "pygments_lexer": "ipython3",
   "version": "3.8.13"
  }
 },
 "nbformat": 4,
 "nbformat_minor": 1
}
